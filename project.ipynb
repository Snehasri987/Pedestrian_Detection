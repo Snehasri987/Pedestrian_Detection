{
 "cells": [
  {
   "cell_type": "code",
   "execution_count": null,
   "id": "0bbe22b1-ff6b-4667-a886-ba2f46f972aa",
   "metadata": {},
   "outputs": [],
   "source": [
    "import cv2\n",
    "import imutils\n",
    "\n",
    "# Initializing the HOG person\n",
    "# detector\n",
    "hog = cv2.HOGDescriptor()\n",
    "hog.setSVMDetector(cv2.HOGDescriptor_getDefaultPeopleDetector())\n",
    "\n",
    "# Reading the Image\n",
    "image = cv2.imread('img.png')\n",
    "\n",
    "# Resizing the Image\n",
    "image = imutils.resize(image,\n",
    "\t\t\t\t\twidth=min(400, image.shape[1]))\n",
    "\n",
    "# Detecting all the regions in the \n",
    "# Image that has a pedestrians inside it\n",
    "(regions, _) = hog.detectMultiScale(image, \n",
    "\t\t\t\t\t\t\t\t\twinStride=(4, 4),\n",
    "\t\t\t\t\t\t\t\t\tpadding=(4, 4),\n",
    "\t\t\t\t\t\t\t\t\tscale=1.05)\n",
    "\n",
    "# Drawing the regions in the Image\n",
    "for (x, y, w, h) in regions:\n",
    "\tcv2.rectangle(image, (x, y), \n",
    "\t\t\t\t(x + w, y + h), \n",
    "\t\t\t\t(0, 0, 255), 2)\n",
    "\n",
    "# Showing the output Image\n",
    "cv2.imshow(\"Image\", image)\n",
    "cv2.waitKey(0)\n",
    "\n",
    "cv2.destroyAllWindows()\n",
    "\n"
   ]
  },
  {
   "cell_type": "code",
   "execution_count": null,
   "id": "1b56c258-beac-4d6d-8afc-b46248a5fe95",
   "metadata": {},
   "outputs": [],
   "source": []
  },
  {
   "cell_type": "code",
   "execution_count": null,
   "id": "b7d7f28e-be78-4b69-b9e3-276cea1f5596",
   "metadata": {},
   "outputs": [],
   "source": []
  }
 ],
 "metadata": {
  "kernelspec": {
   "display_name": "Python 3 (ipykernel)",
   "language": "python",
   "name": "python3"
  },
  "language_info": {
   "codemirror_mode": {
    "name": "ipython",
    "version": 3
   },
   "file_extension": ".py",
   "mimetype": "text/x-python",
   "name": "python",
   "nbconvert_exporter": "python",
   "pygments_lexer": "ipython3",
   "version": "3.12.4"
  }
 },
 "nbformat": 4,
 "nbformat_minor": 5
}
